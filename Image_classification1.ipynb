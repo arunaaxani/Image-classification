{
  "nbformat": 4,
  "nbformat_minor": 0,
  "metadata": {
    "colab": {
      "name": "Image classification1.ipynb",
      "provenance": [],
      "authorship_tag": "ABX9TyO0ZOrq4/IREG3KawVus8NC",
      "include_colab_link": true
    },
    "kernelspec": {
      "name": "python3",
      "display_name": "Python 3"
    },
    "language_info": {
      "name": "python"
    }
  },
  "cells": [
    {
      "cell_type": "markdown",
      "metadata": {
        "id": "view-in-github",
        "colab_type": "text"
      },
      "source": [
        "<a href=\"https://colab.research.google.com/github/arunaaxani/Image-classification/blob/main/Image_classification1.ipynb\" target=\"_parent\"><img src=\"https://colab.research.google.com/assets/colab-badge.svg\" alt=\"Open In Colab\"/></a>"
      ]
    },
    {
      "cell_type": "code",
      "metadata": {
        "colab": {
          "base_uri": "https://localhost:8080/"
        },
        "id": "KVnFrWRthDin",
        "outputId": "73b75212-42ee-42a3-f94b-b2bf3401ce9a"
      },
      "source": [
        "!pip install bing-image-downloader"
      ],
      "execution_count": 1,
      "outputs": [
        {
          "output_type": "stream",
          "text": [
            "Collecting bing-image-downloader\n",
            "  Downloading https://files.pythonhosted.org/packages/0d/bf/537a61030b84ae4cd5022d5c7b014fd9bc3ce7c02358919153a6658a61d3/bing_image_downloader-1.0.4-py3-none-any.whl\n",
            "Installing collected packages: bing-image-downloader\n",
            "Successfully installed bing-image-downloader-1.0.4\n"
          ],
          "name": "stdout"
        }
      ]
    },
    {
      "cell_type": "code",
      "metadata": {
        "id": "hOqoa7hw4aTm"
      },
      "source": [
        "!mkdir images"
      ],
      "execution_count": 2,
      "outputs": []
    },
    {
      "cell_type": "code",
      "metadata": {
        "colab": {
          "base_uri": "https://localhost:8080/"
        },
        "id": "krAh2Pmn4exN",
        "outputId": "fbba7cbe-71ae-4600-a87d-8dd49340a484"
      },
      "source": [
        "from bing_image_downloader import downloader\n",
        "downloader.download(\"Rose\",limit=20,output_dir='images',adult_filter_off=True)"
      ],
      "execution_count": 3,
      "outputs": [
        {
          "output_type": "stream",
          "text": [
            "\n",
            "\n",
            "[!!]Indexing page: 1\n",
            "\n",
            "[%] Indexed 10 Images on Page 1.\n",
            "\n",
            "===============================================\n",
            "\n",
            "[%] Downloading Image #1 from https://www.hdwallpapers.in/download/red_flower_garden-1366x768.jpg\n",
            "[%] File Downloaded !\n",
            "\n",
            "[%] Downloading Image #2 from https://wallpaperforu.com/wp-content/uploads/2020/09/sad-aesthetic-wallpaper-200908152141351440x2560.jpg\n",
            "[%] File Downloaded !\n",
            "\n",
            "[%] Downloading Image #3 from https://www.hdwallpapers.in/download/spring_flower_park-1920x1080.jpg\n",
            "[%] File Downloaded !\n",
            "\n",
            "[%] Downloading Image #4 from http://bodypaintingday.org/wp-content/uploads/use-sophia.jpg\n",
            "[%] File Downloaded !\n",
            "\n",
            "[%] Downloading Image #5 from http://www.aries-wineny.com/wp-content/uploads/2015/12/Baileys.jpg\n",
            "[%] File Downloaded !\n",
            "\n",
            "[%] Downloading Image #6 from https://pic2.zhimg.com/v2-c2d71cc056a037d7b74ed51a31314f39_r.jpg\n",
            "[%] File Downloaded !\n",
            "\n",
            "[%] Downloading Image #7 from https://iphoneswallpapers.com/wp-content/uploads/2016/11/Death-Valley-Road-iPhone-Wallpaper-iphoneswallpapers_com.jpg\n",
            "[%] File Downloaded !\n",
            "\n",
            "[%] Downloading Image #8 from https://i.pinimg.com/736x/72/80/20/728020eb4496cd8ed2ab613b9015ac9f.jpg\n",
            "[%] File Downloaded !\n",
            "\n",
            "[%] Downloading Image #9 from https://pic1.zhimg.com/v2-20cc9075a7513592ba2148d2d0450080_r.jpg\n",
            "[%] File Downloaded !\n",
            "\n",
            "[%] Downloading Image #10 from http://www.j-dphoto.com/images/uploaded/pep_0642__1.jpg\n",
            "[%] File Downloaded !\n",
            "\n",
            "\n",
            "\n",
            "[!!]Indexing page: 2\n",
            "\n",
            "[%] Indexed 10 Images on Page 2.\n",
            "\n",
            "===============================================\n",
            "\n",
            "[%] Downloading Image #11 from https://www.parfumflowercompany.com/wp-content/uploads/2015/10/Toulouse-Lautrec-Meilland-jardin-Parfum-Rose.-Premium-Scented-Orange-garden-rose-009.png\n",
            "[%] File Downloaded !\n",
            "\n",
            "[%] Downloading Image #12 from https://www.monbelami.com/wp-content/uploads/2015/09/18-rose-bridal-red.jpg\n",
            "[%] File Downloaded !\n",
            "\n",
            "[%] Downloading Image #13 from https://www.notrecinema.com/images/filmsi/la-mome_200109_16830.jpg\n",
            "[%] File Downloaded !\n",
            "\n",
            "[%] Downloading Image #14 from https://www.parfumflowercompany.com/wp-content/uploads/2015/10/White-O-Hara-013.jpg\n",
            "[%] File Downloaded !\n",
            "\n",
            "[%] Downloading Image #15 from https://www.yourglenrosetx.com/storyimage/TX/20171124/NEWS/171129732/AR/0/AR-171129732.jpg\n",
            "[%] File Downloaded !\n",
            "\n",
            "[%] Downloading Image #16 from https://s17708.pcdn.co/wp-content/gallery/deliaxmas/6.JPG\n",
            "[%] File Downloaded !\n",
            "\n",
            "[%] Downloading Image #17 from https://pic4.zhimg.com/v2-883b44bd1bcb63a8d328fd2950fcea0f_r.jpg\n",
            "[%] File Downloaded !\n",
            "\n",
            "[%] Downloading Image #18 from https://www.parfumflowercompany.com/wp-content/uploads/2015/10/White-O-Hara-008.jpg\n",
            "[%] File Downloaded !\n",
            "\n",
            "[%] Downloading Image #19 from https://www.tjsballoonsandribbons.co.uk/ekmps/shops/tjsballoons/resources/Design/40e93b876a65488e8d3c0a90bff22a4f.jpg\n",
            "[%] File Downloaded !\n",
            "\n",
            "[%] Downloading Image #20 from https://cdn.whatsthatbug.com/wp-content/uploads/2013/02/monarch_pupa.jpg\n",
            "[%] File Downloaded !\n",
            "\n"
          ],
          "name": "stdout"
        }
      ]
    },
    {
      "cell_type": "code",
      "metadata": {
        "colab": {
          "base_uri": "https://localhost:8080/"
        },
        "id": "ub6vcst35PFs",
        "outputId": "be0a977b-2e44-4537-c191-20552bfab4b6"
      },
      "source": [
        "from bing_image_downloader import downloader\n",
        "downloader.download(\"Chocolate\",limit=20,output_dir='images',adult_filter_off=True)"
      ],
      "execution_count": 4,
      "outputs": [
        {
          "output_type": "stream",
          "text": [
            "\n",
            "\n",
            "[!!]Indexing page: 1\n",
            "\n",
            "[%] Indexed 10 Images on Page 1.\n",
            "\n",
            "===============================================\n",
            "\n",
            "[%] Downloading Image #1 from https://http2.mlstatic.com/10-ovos-de-pascoa-de-250-g-precos-imbativeis-pascoa-2020-D_NQ_NP_846592-MLB40690316718_022020-F.jpg\n",
            "[%] File Downloaded !\n",
            "\n",
            "[%] Downloading Image #2 from https://img2.mashed.com/img/gallery/how-much-is-a-pinch-of-salt/whats-the-difference-between-a-dash-and-a-pinch-of-salt-1571337221.jpg\n",
            "[%] File Downloaded !\n",
            "\n",
            "[%] Downloading Image #3 from https://www.mostapex.com/wp-content/uploads/2019/03/Annalise-Basso-Photos.jpg\n",
            "[%] File Downloaded !\n",
            "\n",
            "[%] Downloading Image #4 from https://hative.com/wp-content/uploads/2014/10/gift-wrapping-ideas/2-cool-gift-wrapping-ideas.jpg\n",
            "[%] File Downloaded !\n",
            "\n",
            "[%] Downloading Image #5 from http://www.puppytots.com/publishImages/resources~~element85.jpg\n",
            "[%] File Downloaded !\n",
            "\n",
            "[%] Downloading Image #6 from https://i.pinimg.com/736x/90/d8/7c/90d87c3b9216cd864dc3b3d5e627d549--small-hall-bamboo-mirror.jpg\n",
            "[%] File Downloaded !\n",
            "\n",
            "[%] Downloading Image #7 from https://ideas.evite.com/media/sweet-and-juicy-birthday-setting-the-mood-table-595.jpg\n",
            "[%] File Downloaded !\n",
            "\n",
            "[%] Downloading Image #8 from https://www2.pictures.gi.zimbio.com/Premiere+Charlie+Chocolate+Factory+HKesdKr1utVx.jpg\n",
            "[%] File Downloaded !\n",
            "\n",
            "[%] Downloading Image #9 from https://www.awesomeinventions.com/wp-content/uploads/2015/10/shells-water.jpg\n",
            "[%] File Downloaded !\n",
            "\n",
            "[%] Downloading Image #10 from http://1.bp.blogspot.com/-XlGy8m50_UQ/TkB9_TqgdKI/AAAAAAAADo8/detZ2OtbvdY/w1200-h630-p-k-nu/white-wedding-cake-blue-flowers-3.jpg\n",
            "[%] File Downloaded !\n",
            "\n",
            "\n",
            "\n",
            "[!!]Indexing page: 2\n",
            "\n",
            "[%] Indexed 10 Images on Page 2.\n",
            "\n",
            "===============================================\n",
            "\n",
            "[%] Downloading Image #11 from https://wallpapershome.com/images/wallpapers/cake-2160x3840-receipt-chocolate-cherry-5k-17068.jpg\n",
            "[%] File Downloaded !\n",
            "\n",
            "[%] Downloading Image #12 from https://www.interiorsbycolor.com/wp-content/uploads/2014/07/navy-blue-wall.jpg\n",
            "[%] File Downloaded !\n",
            "\n",
            "[%] Downloading Image #13 from https://www.howtocookthat.net/public_html/wp-content/uploads/2012/01/zcarrot-cake-recipe-birthday-cake-chocolate-decorations-how-to-cook-that-ann-reardon-225x300.jpg\n",
            "[%] File Downloaded !\n",
            "\n",
            "[%] Downloading Image #14 from https://www.cookingclassy.com/wp-content/uploads/2016/04/raspberry_cheesecake_mousse7..jpg\n",
            "[%] File Downloaded !\n",
            "\n",
            "[%] Downloading Image #15 from http://picslovin.com/wp-content/uploads/2015/02/gateau-anniversaire-enfant-originaux-potager.jpg\n",
            "[%] File Downloaded !\n",
            "\n",
            "[%] Downloading Image #16 from https://therichtimes.com/wordpress/wp-content/uploads/2011/04/chocofall6-417x479.jpg\n",
            "[%] File Downloaded !\n",
            "\n",
            "[%] Downloading Image #17 from https://wallpapershome.com/images/wallpapers/new-year-7680x4320-christmas-decorations-balloons-stars-hearts-524.jpg\n",
            "[%] File Downloaded !\n",
            "\n",
            "[%] Downloading Image #18 from https://www.frogx3.com/wp-content/uploads/2013/11/parodias-disney-jane-1.jpg\n",
            "[%] File Downloaded !\n",
            "\n",
            "[%] Downloading Image #19 from https://www.middlebury.edu/office/sites/www.middlebury.edu.office/files/2019-08/cookie-monster-portrait.jpg?fv=-jpox9ji\n",
            "[%] File Downloaded !\n",
            "\n",
            "[%] Downloading Image #20 from https://coolcreativity.com/wp-content/uploads/2015/01/DIY-Barbie-Chocolate-Bouquet-dress-23.jpg\n",
            "[%] File Downloaded !\n",
            "\n"
          ],
          "name": "stdout"
        }
      ]
    },
    {
      "cell_type": "code",
      "metadata": {
        "colab": {
          "base_uri": "https://localhost:8080/"
        },
        "id": "ILYjgNm058Q_",
        "outputId": "39cf1d08-84f5-4043-e31a-dcb8469a62ea"
      },
      "source": [
        "from bing_image_downloader import downloader\n",
        "downloader.download(\"Electronic gadgets\",limit=20,output_dir='images',adult_filter_off=True)"
      ],
      "execution_count": 5,
      "outputs": [
        {
          "output_type": "stream",
          "text": [
            "\n",
            "\n",
            "[!!]Indexing page: 1\n",
            "\n",
            "[%] Indexed 10 Images on Page 1.\n",
            "\n",
            "===============================================\n",
            "\n",
            "[%] Downloading Image #1 from https://hips.hearstapps.com/hmg-prod.s3.amazonaws.com/images/ces2019-pick-1547579389.jpg?crop=0.984xw:0.987xh;0,0&amp;resize=1200:*\n",
            "[%] File Downloaded !\n",
            "\n",
            "[%] Downloading Image #2 from https://img.choice.com.au/-/media/1aa4d394fa2247b69cf9cdccf22530a8.ashx\n",
            "[%] File Downloaded !\n",
            "\n",
            "[%] Downloading Image #3 from http://images5.takemypaycheck.com/wp-content/uploads/2013/10/Windshield-Projection-GPS.jpg\n",
            "[%] File Downloaded !\n",
            "\n",
            "[%] Downloading Image #4 from https://cdn.bmstores.co.uk/images/hpcProductImage/imgFull/327774-Warm-LED-Photo-Clip-String-Lights.jpg\n",
            "[%] File Downloaded !\n",
            "\n",
            "[%] Downloading Image #5 from http://cdn1.sharperimage.com/si/img/productImages/202693/202693-p1.jpg\n",
            "[%] File Downloaded !\n",
            "\n",
            "[%] Downloading Image #6 from https://www.insasta.com/image/cache/catalog/500g01g100m/12pcs-led-small-electronic-flameless-candle-light-yellow-lighting--18536-800x800.jpg\n",
            "[%] File Downloaded !\n",
            "\n",
            "[%] Downloading Image #7 from https://www.cgstudio.com/imgd/l/18/5e2ed45b700ae0cc018b4567/apple_iphone_11_pro_gold_10.jpg\n",
            "[%] File Downloaded !\n",
            "\n",
            "[%] Downloading Image #8 from https://s1.cdn.autoevolution.com/images/news/gallery/2013-mv-agusta-brutale-675-looks-brutal-has-affordable-price-photo-gallery_17.jpg\n",
            "[%] File Downloaded !\n",
            "\n",
            "[%] Downloading Image #9 from https://www.gamereactor.eu/media/78/farcry6_3207893b.jpg\n",
            "[%] File Downloaded !\n",
            "\n",
            "[%] Downloading Image #10 from https://images.nintendolife.com/screenshots/21411/large.jpg\n",
            "[%] File Downloaded !\n",
            "\n",
            "\n",
            "\n",
            "[!!]Indexing page: 2\n",
            "\n",
            "[%] Indexed 10 Images on Page 2.\n",
            "\n",
            "===============================================\n",
            "\n",
            "[%] Downloading Image #11 from https://www.emprenomic.com/wp-content/uploads/2016/05/gadgets.jpg\n",
            "[%] File Downloaded !\n",
            "\n",
            "[%] Downloading Image #12 from http://image.superstreetonline.com/f/10711927+w+h+q80+re0+cr1+ar0+st0/impp_0811_01_z%2bcool_electronic_gadgets%2biphone3g.jpg\n",
            "[%] File Downloaded !\n",
            "\n",
            "[%] Downloading Image #13 from https://www.insasta.com/image/cache/catalog/cat-banner/electronics-cat-banner-600x315.jpg\n",
            "[%] File Downloaded !\n",
            "\n",
            "[%] Downloading Image #14 from https://cf.shopee.com.my/file/4935b63342c3963a8266fc3979dafc57\n",
            "[Error]Invalid image, not saving https://cf.shopee.com.my/file/4935b63342c3963a8266fc3979dafc57\n",
            "\n",
            "[!] Issue getting: https://cf.shopee.com.my/file/4935b63342c3963a8266fc3979dafc57\n",
            "[!] Error:: No active exception to reraise\n",
            "[%] Downloading Image #14 from https://news.cnrs.fr/sites/default/files/styles/visuel_principal/public/assets/images/flex_display_map_0406_0771_72dpi.jpg\n",
            "[%] File Downloaded !\n",
            "\n",
            "[%] Downloading Image #15 from http://blog.onsitego.com/wp-content/uploads/2020/09/Xiaomi-Redmi-9i-Sea-Blue.jpg\n",
            "[%] File Downloaded !\n",
            "\n",
            "[%] Downloading Image #16 from https://odditymall.com/includes/content/wine-barrel-dartboard-cabinet-og.jpg\n",
            "[%] File Downloaded !\n",
            "\n",
            "[%] Downloading Image #17 from https://www.gamereactor.eu/media/12/overwatch_2621213b.jpg\n",
            "[%] File Downloaded !\n",
            "\n",
            "[%] Downloading Image #18 from https://www.gamereactor.eu/media/96/k_popgroepbtskrijgt_2939673b.jpg\n",
            "[%] File Downloaded !\n",
            "\n",
            "[%] Downloading Image #19 from https://www.gamereactor.eu/media/68/ageempires3_3246813b.jpg\n",
            "[%] File Downloaded !\n",
            "\n",
            "\n",
            "\n",
            "[!!]Indexing page: 3\n",
            "\n",
            "[%] Indexed 9 Images on Page 3.\n",
            "\n",
            "===============================================\n",
            "\n",
            "[%] Downloading Image #20 from http://image.superstreetonline.com/f/10711927+w+h+q80+re0+cr1+ar0+st0/impp_0811_01_z%2bcool_electronic_gadgets%2biphone3g.jpg\n",
            "[%] File Downloaded !\n",
            "\n",
            "\n",
            "\n",
            "[%] Done. Downloaded 20 images.\n",
            "\n",
            "===============================================\n",
            "\n"
          ],
          "name": "stdout"
        }
      ]
    },
    {
      "cell_type": "code",
      "metadata": {
        "colab": {
          "base_uri": "https://localhost:8080/"
        },
        "id": "6K8ClGfb6bT4",
        "outputId": "77672b24-6ae6-4d2e-a614-2eb66f41010e"
      },
      "source": [
        "!pip install ipython-autotime\n",
        "%load_ext autotime"
      ],
      "execution_count": 6,
      "outputs": [
        {
          "output_type": "stream",
          "text": [
            "Collecting ipython-autotime\n",
            "  Downloading https://files.pythonhosted.org/packages/b4/c9/b413a24f759641bc27ef98c144b590023c8038dfb8a3f09e713e9dff12c1/ipython_autotime-0.3.1-py2.py3-none-any.whl\n",
            "Requirement already satisfied: ipython in /usr/local/lib/python3.7/dist-packages (from ipython-autotime) (5.5.0)\n",
            "Requirement already satisfied: traitlets>=4.2 in /usr/local/lib/python3.7/dist-packages (from ipython->ipython-autotime) (5.0.5)\n",
            "Requirement already satisfied: pickleshare in /usr/local/lib/python3.7/dist-packages (from ipython->ipython-autotime) (0.7.5)\n",
            "Requirement already satisfied: decorator in /usr/local/lib/python3.7/dist-packages (from ipython->ipython-autotime) (4.4.2)\n",
            "Requirement already satisfied: pexpect; sys_platform != \"win32\" in /usr/local/lib/python3.7/dist-packages (from ipython->ipython-autotime) (4.8.0)\n",
            "Requirement already satisfied: simplegeneric>0.8 in /usr/local/lib/python3.7/dist-packages (from ipython->ipython-autotime) (0.8.1)\n",
            "Requirement already satisfied: setuptools>=18.5 in /usr/local/lib/python3.7/dist-packages (from ipython->ipython-autotime) (56.1.0)\n",
            "Requirement already satisfied: prompt-toolkit<2.0.0,>=1.0.4 in /usr/local/lib/python3.7/dist-packages (from ipython->ipython-autotime) (1.0.18)\n",
            "Requirement already satisfied: pygments in /usr/local/lib/python3.7/dist-packages (from ipython->ipython-autotime) (2.6.1)\n",
            "Requirement already satisfied: ipython-genutils in /usr/local/lib/python3.7/dist-packages (from traitlets>=4.2->ipython->ipython-autotime) (0.2.0)\n",
            "Requirement already satisfied: ptyprocess>=0.5 in /usr/local/lib/python3.7/dist-packages (from pexpect; sys_platform != \"win32\"->ipython->ipython-autotime) (0.7.0)\n",
            "Requirement already satisfied: six>=1.9.0 in /usr/local/lib/python3.7/dist-packages (from prompt-toolkit<2.0.0,>=1.0.4->ipython->ipython-autotime) (1.15.0)\n",
            "Requirement already satisfied: wcwidth in /usr/local/lib/python3.7/dist-packages (from prompt-toolkit<2.0.0,>=1.0.4->ipython->ipython-autotime) (0.2.5)\n",
            "Installing collected packages: ipython-autotime\n",
            "Successfully installed ipython-autotime-0.3.1\n",
            "time: 310 µs (started: 2021-05-21 07:52:49 +00:00)\n"
          ],
          "name": "stdout"
        }
      ]
    },
    {
      "cell_type": "code",
      "metadata": {
        "colab": {
          "base_uri": "https://localhost:8080/"
        },
        "id": "uTBbt5K36mRO",
        "outputId": "3c35de17-0d7e-441a-a88f-43ed2a733fa5"
      },
      "source": [
        "import os \n",
        "import matplotlib.pyplot as plt\n",
        "import numpy as np\n",
        "from skimage.io import imread\n",
        "from skimage.transform import resize\n",
        " \n",
        "target = []\n",
        "images = []\n",
        "flat_data = []\n",
        "DATADIR ='/content/images'\n",
        "CATEGORIES = ['Chocolate','Electronic gadgets','Rose']\n",
        " \n",
        "for category in CATEGORIES:\n",
        "  class_num = CATEGORIES.index(category)\n",
        "  path = os.path.join(DATADIR,category)\n",
        "  for img in os.listdir(path):\n",
        "    img_array = imread(os.path.join(path,img))\n",
        "   # print(img_array.shape)\n",
        "    #plt.imshow(img_array)\n",
        "    img_resized = resize(img_array,(150,150,3))\n",
        "    flat_data.append(img_resized.flatten())\n",
        " \n",
        "    images.append(img_resized)\n",
        "    target.append(class_num)\n",
        " \n",
        "flat_data = np.array(flat_data)\n",
        "target = np.array(target)\n",
        "images = np.array(images)"
      ],
      "execution_count": 7,
      "outputs": [
        {
          "output_type": "stream",
          "text": [
            "time: 41.9 s (started: 2021-05-21 07:53:29 +00:00)\n"
          ],
          "name": "stdout"
        }
      ]
    },
    {
      "cell_type": "code",
      "metadata": {
        "colab": {
          "base_uri": "https://localhost:8080/"
        },
        "id": "DZgA-BRs6rc7",
        "outputId": "09536969-9fd7-4fc6-e472-cb329fa9d60a"
      },
      "source": [
        "len(flat_data[0])"
      ],
      "execution_count": 8,
      "outputs": [
        {
          "output_type": "execute_result",
          "data": {
            "text/plain": [
              "67500"
            ]
          },
          "metadata": {
            "tags": []
          },
          "execution_count": 8
        },
        {
          "output_type": "stream",
          "text": [
            "time: 7.68 ms (started: 2021-05-21 07:54:18 +00:00)\n"
          ],
          "name": "stdout"
        }
      ]
    },
    {
      "cell_type": "code",
      "metadata": {
        "colab": {
          "base_uri": "https://localhost:8080/"
        },
        "id": "UGMr2rTQ62SW",
        "outputId": "c64c49cd-2a8d-46f8-9c33-f308c9aacadf"
      },
      "source": [
        "target"
      ],
      "execution_count": 9,
      "outputs": [
        {
          "output_type": "execute_result",
          "data": {
            "text/plain": [
              "array([0, 0, 0, 0, 0, 0, 0, 0, 0, 0, 0, 0, 0, 0, 0, 0, 0, 0, 0, 0, 1, 1,\n",
              "       1, 1, 1, 1, 1, 1, 1, 1, 1, 1, 1, 1, 1, 1, 1, 1, 1, 1, 2, 2, 2, 2,\n",
              "       2, 2, 2, 2, 2, 2, 2, 2, 2, 2, 2, 2, 2, 2, 2, 2])"
            ]
          },
          "metadata": {
            "tags": []
          },
          "execution_count": 9
        },
        {
          "output_type": "stream",
          "text": [
            "time: 6.34 ms (started: 2021-05-21 07:54:35 +00:00)\n"
          ],
          "name": "stdout"
        }
      ]
    },
    {
      "cell_type": "code",
      "metadata": {
        "colab": {
          "base_uri": "https://localhost:8080/",
          "height": 298
        },
        "id": "QSzJwNtN66is",
        "outputId": "5472e0aa-fee4-482c-a3ce-b94dd1563b26"
      },
      "source": [
        "unique,count = np.unique(target,return_counts=True)\n",
        "plt.bar(CATEGORIES,count)"
      ],
      "execution_count": 10,
      "outputs": [
        {
          "output_type": "execute_result",
          "data": {
            "text/plain": [
              "<BarContainer object of 3 artists>"
            ]
          },
          "metadata": {
            "tags": []
          },
          "execution_count": 10
        },
        {
          "output_type": "display_data",
          "data": {
            "image/png": "[encoded data removed]",
            "text/plain": [
              "<Figure size 432x288 with 1 Axes>"
            ]
          },
          "metadata": {
            "tags": [],
            "needs_background": "light"
          }
        },
        {
          "output_type": "stream",
          "text": [
            "time: 158 ms (started: 2021-05-21 07:54:53 +00:00)\n"
          ],
          "name": "stdout"
        }
      ]
    },
    {
      "cell_type": "code",
      "metadata": {
        "colab": {
          "base_uri": "https://localhost:8080/"
        },
        "id": "WcNEOk-M7BXb",
        "outputId": "1eb91d81-7135-44a2-c9b2-cc4fb7315db1"
      },
      "source": [
        "from sklearn.model_selection import train_test_split\n",
        "x_train,x_test,y_train,y_test = train_test_split(flat_data,target,test_size=0.3,random_state=0)"
      ],
      "execution_count": 11,
      "outputs": [
        {
          "output_type": "stream",
          "text": [
            "time: 227 ms (started: 2021-05-21 07:55:20 +00:00)\n"
          ],
          "name": "stdout"
        }
      ]
    },
    {
      "cell_type": "code",
      "metadata": {
        "colab": {
          "base_uri": "https://localhost:8080/"
        },
        "id": "UXjUGE9I7DZ_",
        "outputId": "632ebe13-5053-4922-831c-7d706a65a9a8"
      },
      "source": [
        "from sklearn.svm import SVC\n",
        "from sklearn.model_selection import GridSearchCV\n",
        "param_grid =   {'C':[0.1,1,10,100],\n",
        "              'kernel':['linear','rbf']}\n",
        " \n",
        " \n",
        "clf = GridSearchCV(SVC(),param_grid)\n",
        "clf.fit(x_train,y_train)"
      ],
      "execution_count": 12,
      "outputs": [
        {
          "output_type": "execute_result",
          "data": {
            "text/plain": [
              "GridSearchCV(cv=None, error_score=nan,\n",
              "             estimator=SVC(C=1.0, break_ties=False, cache_size=200,\n",
              "                           class_weight=None, coef0=0.0,\n",
              "                           decision_function_shape='ovr', degree=3,\n",
              "                           gamma='scale', kernel='rbf', max_iter=-1,\n",
              "                           probability=False, random_state=None, shrinking=True,\n",
              "                           tol=0.001, verbose=False),\n",
              "             iid='deprecated', n_jobs=None,\n",
              "             param_grid={'C': [0.1, 1, 10, 100], 'kernel': ['linear', 'rbf']},\n",
              "             pre_dispatch='2*n_jobs', refit=True, return_train_score=False,\n",
              "             scoring=None, verbose=0)"
            ]
          },
          "metadata": {
            "tags": []
          },
          "execution_count": 12
        },
        {
          "output_type": "stream",
          "text": [
            "time: 10.8 s (started: 2021-05-21 07:55:41 +00:00)\n"
          ],
          "name": "stdout"
        }
      ]
    },
    {
      "cell_type": "code",
      "metadata": {
        "colab": {
          "base_uri": "https://localhost:8080/"
        },
        "id": "RoLCQ0Yw7MHN",
        "outputId": "a8043776-8ec2-48e0-d8db-165b0816ffcd"
      },
      "source": [
        "y_pred = clf.predict(x_test)\n",
        "y_pred"
      ],
      "execution_count": 13,
      "outputs": [
        {
          "output_type": "execute_result",
          "data": {
            "text/plain": [
              "array([2, 2, 0, 1, 1, 0, 0, 2, 0, 2, 1, 1, 2, 2, 1, 2, 1, 2])"
            ]
          },
          "metadata": {
            "tags": []
          },
          "execution_count": 13
        },
        {
          "output_type": "stream",
          "text": [
            "time: 102 ms (started: 2021-05-21 07:56:04 +00:00)\n"
          ],
          "name": "stdout"
        }
      ]
    },
    {
      "cell_type": "code",
      "metadata": {
        "colab": {
          "base_uri": "https://localhost:8080/"
        },
        "id": "eDypSMv-7Rjw",
        "outputId": "4b15e813-5846-4aa6-c29c-f7fde78ab69c"
      },
      "source": [
        "y_test"
      ],
      "execution_count": 14,
      "outputs": [
        {
          "output_type": "execute_result",
          "data": {
            "text/plain": [
              "array([1, 1, 2, 1, 0, 0, 1, 2, 2, 1, 0, 0, 1, 2, 1, 2, 2, 0])"
            ]
          },
          "metadata": {
            "tags": []
          },
          "execution_count": 14
        },
        {
          "output_type": "stream",
          "text": [
            "time: 5.52 ms (started: 2021-05-21 07:56:27 +00:00)\n"
          ],
          "name": "stdout"
        }
      ]
    },
    {
      "cell_type": "code",
      "metadata": {
        "colab": {
          "base_uri": "https://localhost:8080/"
        },
        "id": "McptwLY87WTQ",
        "outputId": "fc694b1f-a9b8-4d40-d598-6f4c0d3d08b9"
      },
      "source": [
        "from sklearn.metrics import accuracy_score,confusion_matrix"
      ],
      "execution_count": 15,
      "outputs": [
        {
          "output_type": "stream",
          "text": [
            "time: 3.82 ms (started: 2021-05-21 07:56:48 +00:00)\n"
          ],
          "name": "stdout"
        }
      ]
    },
    {
      "cell_type": "code",
      "metadata": {
        "colab": {
          "base_uri": "https://localhost:8080/"
        },
        "id": "yhDRsjXf7av5",
        "outputId": "5b46908d-317d-4cf4-cfbc-a44e90ef4b3c"
      },
      "source": [
        "accuracy_score(y_pred,y_test)"
      ],
      "execution_count": 16,
      "outputs": [
        {
          "output_type": "execute_result",
          "data": {
            "text/plain": [
              "0.3333333333333333"
            ]
          },
          "metadata": {
            "tags": []
          },
          "execution_count": 16
        },
        {
          "output_type": "stream",
          "text": [
            "time: 14.9 ms (started: 2021-05-21 07:57:04 +00:00)\n"
          ],
          "name": "stdout"
        }
      ]
    },
    {
      "cell_type": "code",
      "metadata": {
        "colab": {
          "base_uri": "https://localhost:8080/"
        },
        "id": "ozJYpJBZ7fXw",
        "outputId": "c90c154c-da02-4a79-cf03-21adb5a7bf3e"
      },
      "source": [
        "confusion_matrix(y_pred,y_test)"
      ],
      "execution_count": 17,
      "outputs": [
        {
          "output_type": "execute_result",
          "data": {
            "text/plain": [
              "array([[1, 1, 2],\n",
              "       [3, 2, 1],\n",
              "       [1, 4, 3]])"
            ]
          },
          "metadata": {
            "tags": []
          },
          "execution_count": 17
        },
        {
          "output_type": "stream",
          "text": [
            "time: 15.9 ms (started: 2021-05-21 07:57:22 +00:00)\n"
          ],
          "name": "stdout"
        }
      ]
    },
    {
      "cell_type": "code",
      "metadata": {
        "colab": {
          "base_uri": "https://localhost:8080/"
        },
        "id": "v7xGHQn27j8c",
        "outputId": "c69da362-40dd-43bc-c48d-5935c420d600"
      },
      "source": [
        "import pickle\n",
        "pickle.dump(clf,open('img_model.p','wb'))"
      ],
      "execution_count": 18,
      "outputs": [
        {
          "output_type": "stream",
          "text": [
            "time: 34.8 ms (started: 2021-05-21 07:57:42 +00:00)\n"
          ],
          "name": "stdout"
        }
      ]
    },
    {
      "cell_type": "code",
      "metadata": {
        "colab": {
          "base_uri": "https://localhost:8080/"
        },
        "id": "QzFoZrBs7n1T",
        "outputId": "d8170859-f9a1-42f3-e59f-0654775ec32f"
      },
      "source": [
        "model = pickle.load(open('img_model.p','rb'))"
      ],
      "execution_count": 19,
      "outputs": [
        {
          "output_type": "stream",
          "text": [
            "time: 25.3 ms (started: 2021-05-21 07:57:59 +00:00)\n"
          ],
          "name": "stdout"
        }
      ]
    },
    {
      "cell_type": "code",
      "metadata": {
        "colab": {
          "base_uri": "https://localhost:8080/",
          "height": 358
        },
        "id": "IDSbrqYw7uDM",
        "outputId": "bf77a9ba-359d-4e5c-a42f-00b392c9d0ed"
      },
      "source": [
        "flat_data =[]\n",
        "url = input('enter your url')\n",
        "img = imread(url)\n",
        "img_resized = resize(img,(150,150,3))\n",
        "flat_data.append(img_resized.flatten())\n",
        "flat_data = np.array(flat_data)\n",
        "print(img.shape)\n",
        "plt.imshow(img_resized)\n",
        "y_out = model.predict(flat_data)\n",
        "y_out = CATEGORIES[y_out[0]]\n",
        "print(f'PREDICTED OUTPUT:{y_out}')"
      ],
      "execution_count": 23,
      "outputs": [
        {
          "output_type": "stream",
          "text": [
            "enter your urlhttps://image.shutterstock.com/shutterstock/photos/110814989/display_1500/stock-photo-melting-chocolate-drips-down-the-different-tiers-of-a-chocolate-fountain-structure-110814989.jpg\n",
            "(1600, 1038, 3)\n",
            "PREDICTED OUTPUT:Chocolate\n"
          ],
          "name": "stdout"
        },
        {
          "output_type": "display_data",
          "data": {
            "image/png": "[encoded data removed]",
            "text/plain": [
              "<Figure size 432x288 with 1 Axes>"
            ]
          },
          "metadata": {
            "tags": [],
            "needs_background": "light"
          }
        },
        {
          "output_type": "stream",
          "text": [
            "time: 21.6 s (started: 2021-05-21 08:01:14 +00:00)\n"
          ],
          "name": "stdout"
        }
      ]
    },
    {
      "cell_type": "code",
      "metadata": {
        "colab": {
          "base_uri": "https://localhost:8080/"
        },
        "id": "WhvuMdRR8fqi",
        "outputId": "0cca4615-34ea-4044-cc8b-80f621c0364f"
      },
      "source": [
        "!pip install streamlit --quiet\n",
        "!pip install pyngrok==4.1.1 --quiet\n",
        "from pyngrok import ngrok"
      ],
      "execution_count": 24,
      "outputs": [
        {
          "output_type": "stream",
          "text": [
            "\u001b[K     |████████████████████████████████| 8.2MB 2.9MB/s \n",
            "\u001b[K     |████████████████████████████████| 81kB 6.1MB/s \n",
            "\u001b[K     |████████████████████████████████| 112kB 43.4MB/s \n",
            "\u001b[K     |████████████████████████████████| 92kB 8.2MB/s \n",
            "\u001b[K     |████████████████████████████████| 174kB 41.6MB/s \n",
            "\u001b[K     |████████████████████████████████| 4.2MB 36.4MB/s \n",
            "\u001b[K     |████████████████████████████████| 71kB 7.3MB/s \n",
            "\u001b[K     |████████████████████████████████| 122kB 35.7MB/s \n",
            "\u001b[?25h  Building wheel for blinker (setup.py) ... \u001b[?25l\u001b[?25hdone\n",
            "\u001b[31mERROR: google-colab 1.0.0 has requirement ipykernel~=4.10, but you'll have ipykernel 5.5.5 which is incompatible.\u001b[0m\n",
            "  Building wheel for pyngrok (setup.py) ... \u001b[?25l\u001b[?25hdone\n",
            "time: 19.1 s (started: 2021-05-21 08:01:56 +00:00)\n"
          ],
          "name": "stdout"
        }
      ]
    },
    {
      "cell_type": "code",
      "metadata": {
        "colab": {
          "base_uri": "https://localhost:8080/"
        },
        "id": "FhdYIHJR8tQi",
        "outputId": "9448a519-b959-4ee2-c048-2c0671b214da"
      },
      "source": [
        "%%writefile app.py\n",
        "import streamlit as st\n",
        "import numpy as np\n",
        "from skimage.io import imread\n",
        "from skimage.transform import resize\n",
        "import pickle\n",
        "from PIL import Image\n",
        "st.set_option('deprecation.showfileUploaderEncoding', False)\n",
        "st.title('Image Classifier using machin learning')\n",
        "st.text('upload the Image')\n",
        " \n",
        "model = pickle.load(open('img_model.p','rb'))\n",
        " \n",
        "uploaded_file = st.file_uploader(\"Choose an Image...\",type = \"jpg\") \n",
        "if uploaded_file is not None:\n",
        "  img = Image.open(uploaded_file)\n",
        "  st.image(img,caption ='Uploaded Image')\n",
        "  if st.button('PREDICT:'):\n",
        "    CATEGORIES = ['Chocolate','Electronic gadgets','Rose']\n",
        "    st.write('Result...')\n",
        "    flat_data = []\n",
        "    img = np.array(img)\n",
        "    img_resized = resize(img,(150,150,3))\n",
        "    flat_data.append(img_resized.flatten())\n",
        "    flat_data = np.array(flat_data)\n",
        "    print(img.shape)\n",
        "   \n",
        "    y_out = model.predict(flat_data)\n",
        "    y_out = CATEGORIES[y_out[0]]\n",
        "    st.title(f'PREDICTED OUTPUT: {y_out}')"
      ],
      "execution_count": 25,
      "outputs": [
        {
          "output_type": "stream",
          "text": [
            "Writing app.py\n",
            "time: 4.61 ms (started: 2021-05-21 08:02:42 +00:00)\n"
          ],
          "name": "stdout"
        }
      ]
    },
    {
      "cell_type": "code",
      "metadata": {
        "colab": {
          "base_uri": "https://localhost:8080/"
        },
        "id": "9F3ZDXXT8zqu",
        "outputId": "061c1de2-af2f-4fed-e31d-f265e5915cc5"
      },
      "source": [
        "!nohup streamlit run app.py &\n",
        "url = ngrok.connect(port='8501')\n",
        "print(url)"
      ],
      "execution_count": 26,
      "outputs": [
        {
          "output_type": "stream",
          "text": [
            "nohup: appending output to 'nohup.out'\n",
            "http://c69a1cd0ad86.ngrok.io\n",
            "time: 1.7 s (started: 2021-05-21 08:03:08 +00:00)\n"
          ],
          "name": "stdout"
        }
      ]
    }
  ]
}