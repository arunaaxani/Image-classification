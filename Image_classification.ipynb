{
  "nbformat": 4,
  "nbformat_minor": 0,
  "metadata": {
    "colab": {
      "name": "Image classification.ipynb",
      "provenance": [],
      "collapsed_sections": [],
      "authorship_tag": "ABX9TyPAE1Tor2WzeUsqjJWJeo1X",
      "include_colab_link": true
    },
    "kernelspec": {
      "name": "python3",
      "display_name": "Python 3"
    },
    "language_info": {
      "name": "python"
    }
  },
  "cells": [
    {
      "cell_type": "markdown",
      "metadata": {
        "id": "view-in-github",
        "colab_type": "text"
      },
      "source": [
        "<a href=\"https://colab.research.google.com/github/arunaaxani/Image-classification/blob/main/Image_classification.ipynb\" target=\"_parent\"><img src=\"https://colab.research.google.com/assets/colab-badge.svg\" alt=\"Open In Colab\"/></a>"
      ]
    },
    {
      "cell_type": "code",
      "metadata": {
        "colab": {
          "base_uri": "https://localhost:8080/"
        },
        "id": "KVnFrWRthDin",
        "outputId": "15651e9b-d607-456d-a94e-aaec05d33d08"
      },
      "source": [
        "!pip install bing-image-downloader"
      ],
      "execution_count": null,
      "outputs": [
        {
          "output_type": "stream",
          "text": [
            "Collecting bing-image-downloader\n",
            "  Downloading https://files.pythonhosted.org/packages/0d/bf/537a61030b84ae4cd5022d5c7b014fd9bc3ce7c02358919153a6658a61d3/bing_image_downloader-1.0.4-py3-none-any.whl\n",
            "Installing collected packages: bing-image-downloader\n",
            "Successfully installed bing-image-downloader-1.0.4\n"
          ],
          "name": "stdout"
        }
      ]
    },
    {
      "cell_type": "code",
      "metadata": {
        "id": "K4gP9PkhhavL"
      },
      "source": [
        "!mkdir images"
      ],
      "execution_count": null,
      "outputs": []
    },
    {
      "cell_type": "code",
      "metadata": {
        "colab": {
          "base_uri": "https://localhost:8080/"
        },
        "id": "Kq7cpwURhf6f",
        "outputId": "3c21fa67-7ed3-4114-e7db-2cc981ee8d02"
      },
      "source": [
        "from bing_image_downloader import downloader\n",
        "downloader.download(\"Rose\",limit=20,output_dir='images',adult_filter_off=True)"
      ],
      "execution_count": null,
      "outputs": [
        {
          "output_type": "stream",
          "text": [
            "\n",
            "\n",
            "[!!]Indexing page: 1\n",
            "\n",
            "[%] Indexed 10 Images on Page 1.\n",
            "\n",
            "===============================================\n",
            "\n",
            "[%] Downloading Image #1 from https://wallpapershome.com/images/wallpapers/roses-1920x1080-5k-4k-wallpaper-flower-bouquet-red-4107.jpg\n",
            "[%] File Downloaded !\n",
            "\n",
            "[%] Downloading Image #2 from https://www.the-british-shop.at/$WS/the-british-shop/websale8_shop-the-british-shop/produkte/medien/bilder/gross/96-0277.jpg\n",
            "[%] File Downloaded !\n",
            "\n",
            "[%] Downloading Image #3 from http://designplusmagazine.com/wp-content/uploads/2016/03/ROYAL_ROULOTTE_RENOVATION_DECORATION_FONTAINEBLEAU_MAISON_HEXAGONE_WALLPAPER_08.jpg\n",
            "[%] File Downloaded !\n",
            "\n",
            "[%] Downloading Image #4 from https://www.parfumflowercompany.com/wp-content/uploads/2015/10/Yves-Piaget-Premium-Scented-Garden-Rose-from-the-Meilland-Jardin-Parfum-collection-022.png\n",
            "[%] File Downloaded !\n",
            "\n",
            "[%] Downloading Image #5 from https://pic1.zhimg.com/v2-a27df2dcd8f611666103655cedabc4e8_r.jpg\n",
            "[%] File Downloaded !\n",
            "\n",
            "[%] Downloading Image #6 from https://www.parfumflowercompany.com/wp-content/uploads/2016/02/Free-Spirit-Premium-scented-garden-rose-001.png\n",
            "[%] File Downloaded !\n",
            "\n",
            "[%] Downloading Image #7 from https://www.parfumflowercompany.com/wp-content/uploads/2015/10/Juliet-0101.jpg\n",
            "[%] File Downloaded !\n",
            "\n",
            "[%] Downloading Image #8 from http://www.minnesotawildflowers.info/udata/r9ndp23q/yellow/silvery-cinquefoil_0802_135635.jpg\n",
            "[%] File Downloaded !\n",
            "\n",
            "[%] Downloading Image #9 from https://www.iclarified.com/images/news/51519/243511/243511.jpg\n",
            "[%] File Downloaded !\n",
            "\n",
            "[%] Downloading Image #10 from http://www.rosesandrings.com/wp-content/uploads/2018/03/backyard-greenery-tree-wedding-backdrop.jpg\n",
            "[%] File Downloaded !\n",
            "\n",
            "\n",
            "\n",
            "[!!]Indexing page: 2\n",
            "\n",
            "[%] Indexed 13 Images on Page 2.\n",
            "\n",
            "===============================================\n",
            "\n",
            "[%] Downloading Image #11 from https://www.parfumflowercompany.com/wp-content/uploads/2015/10/7.png\n",
            "[%] File Downloaded !\n",
            "\n",
            "[%] Downloading Image #12 from https://knuppernursery.com/wp-content/uploads/2015/07/spring_container_7.jpg\n",
            "[%] File Downloaded !\n",
            "\n",
            "[%] Downloading Image #13 from https://cdn.acidcow.com/pics/20161116/khloe_kardashian_02.jpg\n",
            "[%] File Downloaded !\n",
            "\n",
            "[%] Downloading Image #14 from https://www.parfumflowercompany.com/wp-content/uploads/2016/02/Free-Spirit-Premium-scented-garden-rose-001.png\n",
            "[%] File Downloaded !\n",
            "\n",
            "[%] Downloading Image #15 from https://www.gifmaniacos.es/wp-content/uploads/2019/04/explosion-de-vida-flores-gifs-movimiento-gifmaniacos.es-34.gif\n",
            "[%] File Downloaded !\n",
            "\n",
            "[%] Downloading Image #16 from https://www.bing.com/th/id/OGC.1617268570b31f5813de4d62ad585aee?pid=1.7&amp;rurl=https%3a%2f%2fwww.gifmaniacos.es%2fwp-content%2fuploads%2f2019%2f04%2fexplosion-de-vida-flores-gifs-movimiento-gifmaniacos.es-34.gif&amp;ehk=FeVlVc49h51kpOOB8UZnkGQ3baBfE8%2fW0XMi5sB0yf0%3d\n",
            "[!] Issue getting: https://www.bing.com/th/id/OGC.1617268570b31f5813de4d62ad585aee?pid=1.7&amp;rurl=https%3a%2f%2fwww.gifmaniacos.es%2fwp-content%2fuploads%2f2019%2f04%2fexplosion-de-vida-flores-gifs-movimiento-gifmaniacos.es-34.gif&amp;ehk=FeVlVc49h51kpOOB8UZnkGQ3baBfE8%2fW0XMi5sB0yf0%3d\n",
            "[!] Error:: HTTP Error 404: Not Found\n",
            "[%] Downloading Image #16 from https://i.pinimg.com/736x/c8/40/4f/c8404f11b8508f65df875f7eb94febf1.jpg\n",
            "[%] File Downloaded !\n",
            "\n",
            "[%] Downloading Image #17 from https://pic1.zhimg.com/v2-b3a04eb5fe5d982413ff5df70e76ec4c_r.jpg\n",
            "[%] File Downloaded !\n",
            "\n",
            "[%] Downloading Image #18 from https://www.parfumflowercompany.com/wp-content/uploads/2015/10/Keira-011.jpg\n",
            "[%] File Downloaded !\n",
            "\n",
            "[%] Downloading Image #19 from https://d29jd5m3t61t9.cloudfront.net/artifactcollectors.com/images/fbfiles/images/image-ceca1ed2b4ed1e9536d30913a71efc01_v_1422120603.jpg\n",
            "[%] File Downloaded !\n",
            "\n",
            "[%] Downloading Image #20 from https://www.parfumflowercompany.com/wp-content/uploads/2015/10/White-O-Hara-014.jpg\n",
            "[%] File Downloaded !\n",
            "\n",
            "\n",
            "\n",
            "[%] Done. Downloaded 20 images.\n",
            "\n",
            "===============================================\n",
            "\n"
          ],
          "name": "stdout"
        }
      ]
    },
    {
      "cell_type": "code",
      "metadata": {
        "colab": {
          "base_uri": "https://localhost:8080/"
        },
        "id": "a0NFazLDh9O9",
        "outputId": "7c44a109-d17a-4ee4-8dae-6824f0de046f"
      },
      "source": [
        "from bing_image_downloader import downloader\n",
        "downloader.download(\"Chocolate\",limit=20,output_dir='images',adult_filter_off=True)"
      ],
      "execution_count": null,
      "outputs": [
        {
          "output_type": "stream",
          "text": [
            "\n",
            "\n",
            "[!!]Indexing page: 1\n",
            "\n",
            "[%] Indexed 10 Images on Page 1.\n",
            "\n",
            "===============================================\n",
            "\n",
            "[%] Downloading Image #1 from http://www.divyavithika.com/wp-content/uploads/2015/06/Choclate-cake-8.jpg\n",
            "[%] File Downloaded !\n",
            "\n",
            "[%] Downloading Image #2 from https://www.modip.ac.uk/sites/default/files/styles/artefact_carousel_full/public/images/artefacts/003494_3.jpg?itok=TB64SWyx\n",
            "[%] File Downloaded !\n",
            "\n",
            "[%] Downloading Image #3 from https://pizzazzerie.com/wp-content/uploads/2015/12/boozy-hot-cocoa-bar11.jpg\n",
            "[%] File Downloaded !\n",
            "\n",
            "[%] Downloading Image #4 from https://cakebycourtney.com/wp-content/uploads/2017/08/Cotton-Candy-Cake-17-e1501766385103-752x1024.jpg\n",
            "[%] File Downloaded !\n",
            "\n",
            "[%] Downloading Image #5 from https://keeprecipes.com/sites/keeprecipes/files/8858_1390610932_0.jpg\n",
            "[%] File Downloaded !\n",
            "\n",
            "[%] Downloading Image #6 from https://40.media.tumblr.com/aed5b22459523e259fd4b5597286f507/tumblr_mwofv16mMW1rcibceo1_500.jpg\n",
            "[%] File Downloaded !\n",
            "\n",
            "[%] Downloading Image #7 from https://babyshowerideas4u.com/wp-content/uploads/2016/06/Elegant-Pink-Flower-Baby-Shower-Chocolate-Strawberries-600x800.jpg\n",
            "[%] File Downloaded !\n",
            "\n",
            "[%] Downloading Image #8 from https://wallpapershome.com/images/wallpapers/destiny-2-3840x2160-4k-poster-screenshot-e3-2017-13700.jpg\n",
            "[%] File Downloaded !\n",
            "\n",
            "[%] Downloading Image #9 from http://www.mwctoys.com/images/review_wonka12_12.jpg\n",
            "[%] File Downloaded !\n",
            "\n",
            "[%] Downloading Image #10 from http://www.toxel.com/wp-content/uploads/2016/12/renastarwars08.jpg\n",
            "[%] File Downloaded !\n",
            "\n",
            "\n",
            "\n",
            "[!!]Indexing page: 2\n",
            "\n",
            "[%] Indexed 12 Images on Page 2.\n",
            "\n",
            "===============================================\n",
            "\n",
            "[%] Downloading Image #11 from http://blog.stylishwedd.com/wp-content/uploads/2017/06/Industrial-Chic-Boho-Themed-Drip-Wedding-Cake.jpg\n",
            "[%] File Downloaded !\n",
            "\n",
            "[%] Downloading Image #12 from https://ideas.evite.com/media/sweet-and-juicy-birthday-setting-the-mood-table-595.jpg\n",
            "[%] File Downloaded !\n",
            "\n",
            "[%] Downloading Image #13 from http://wallpapershome.com/images/pages/ico_v/8245.jpg\n",
            "[%] File Downloaded !\n",
            "\n",
            "[%] Downloading Image #14 from https://http2.mlstatic.com/10-ovos-de-pascoa-de-250-g-precos-imbativeis-pascoa-2020-D_NQ_NP_846592-MLB40690316718_022020-F.jpg\n",
            "[%] File Downloaded !\n",
            "\n",
            "[%] Downloading Image #15 from https://img2.mashed.com/img/gallery/how-much-is-a-pinch-of-salt/whats-the-difference-between-a-dash-and-a-pinch-of-salt-1571337221.jpg\n",
            "[%] File Downloaded !\n",
            "\n",
            "[%] Downloading Image #16 from http://addapinch.com/wp-content/uploads/2016/02/strawberry-angel-cake.jpg\n",
            "[%] File Downloaded !\n",
            "\n",
            "[%] Downloading Image #17 from https://i.pinimg.com/736x/90/d8/7c/90d87c3b9216cd864dc3b3d5e627d549--small-hall-bamboo-mirror.jpg\n",
            "[%] File Downloaded !\n",
            "\n",
            "[%] Downloading Image #18 from https://www2.pictures.gi.zimbio.com/Premiere+Charlie+Chocolate+Factory+HKesdKr1utVx.jpg\n",
            "[%] File Downloaded !\n",
            "\n",
            "[%] Downloading Image #19 from https://www.awesomeinventions.com/wp-content/uploads/2015/10/shells-water.jpg\n",
            "[%] File Downloaded !\n",
            "\n",
            "[%] Downloading Image #20 from https://www.mostapex.com/wp-content/uploads/2019/03/Annalise-Basso-Photos.jpg\n",
            "[%] File Downloaded !\n",
            "\n",
            "\n",
            "\n",
            "[%] Done. Downloaded 20 images.\n",
            "\n",
            "===============================================\n",
            "\n"
          ],
          "name": "stdout"
        }
      ]
    },
    {
      "cell_type": "code",
      "metadata": {
        "colab": {
          "base_uri": "https://localhost:8080/"
        },
        "id": "aEYs7X9_iEcj",
        "outputId": "7201b50b-3adb-44d3-b4b8-de457cd9d501"
      },
      "source": [
        "from bing_image_downloader import downloader\n",
        "downloader.download(\"Electronic gadgets\",limit=20,output_dir='images',adult_filter_off=True)"
      ],
      "execution_count": null,
      "outputs": [
        {
          "output_type": "stream",
          "text": [
            "\n",
            "\n",
            "[!!]Indexing page: 1\n",
            "\n",
            "[%] Indexed 10 Images on Page 1.\n",
            "\n",
            "===============================================\n",
            "\n",
            "[%] Downloading Image #1 from https://cdn.pocket-lint.com/r/s/970x/assets/images/68627-gadgets-review-loc8tor-tracking-device-image1-koPXsjHzJ7.jpg\n",
            "[%] File Downloaded !\n",
            "\n",
            "[%] Downloading Image #2 from https://www.bchydro.com/content/dam/BCHydro/customer-portal/graphics/illustrations/electronic-timeline-illustration.jpg\n",
            "[!] Issue getting: https://www.bchydro.com/content/dam/BCHydro/customer-portal/graphics/illustrations/electronic-timeline-illustration.jpg\n",
            "[!] Error:: HTTP Error 403: Forbidden\n",
            "[%] Downloading Image #2 from https://thenewsmill.com/wp-content/uploads/2020/06/Online-classes.jpg\n",
            "[%] File Downloaded !\n",
            "\n",
            "[%] Downloading Image #3 from https://blog.onsitego.com/wp-content/uploads/2020/09/Samsung-Galaxy-M51-Front-Rear-Design.jpg\n",
            "[%] File Downloaded !\n",
            "\n",
            "[%] Downloading Image #4 from https://odditymall.com/includes/content/led-digital-wall-clock-0.jpg\n",
            "[%] File Downloaded !\n",
            "\n",
            "[%] Downloading Image #5 from https://www.suckstobebroke.com/wp-content/uploads/2020/01/Electronic-Word-Clock-4.jpg\n",
            "[%] File Downloaded !\n",
            "\n",
            "[%] Downloading Image #6 from http://cdn.trendhunterstatic.com/thumbs/computer-part-art.jpeg\n",
            "[%] File Downloaded !\n",
            "\n",
            "[%] Downloading Image #7 from http://cdn4.explainthatstuff.com/amazon-kindle-paperwhite.jpg\n",
            "[%] File Downloaded !\n",
            "\n",
            "[%] Downloading Image #8 from https://www.awesomeinventions.com/wp-content/uploads/2015/06/Temporary-Tattoos.jpg\n",
            "[%] File Downloaded !\n",
            "\n",
            "[%] Downloading Image #9 from https://www.gamereactor.eu/media/56/_3215683b.jpg\n",
            "[%] File Downloaded !\n",
            "\n",
            "\n",
            "\n",
            "[!!]Indexing page: 2\n",
            "\n",
            "[%] Indexed 10 Images on Page 2.\n",
            "\n",
            "===============================================\n",
            "\n",
            "[%] Downloading Image #10 from https://tr4.cbsistatic.com/hub/i/r/2014/01/24/35ec76a1-d79f-4543-917e-3c3f1a57d59a/thumbnail/770x578/c435ac328eec3369fe60cb980b42a351/Polaroid_C3_1_620x465.jpg\n",
            "[%] File Downloaded !\n",
            "\n",
            "[%] Downloading Image #11 from https://i.gadgets360cdn.com/large/ea-steam_1572423614829.jpg\n",
            "[%] File Downloaded !\n",
            "\n",
            "[%] Downloading Image #12 from https://www.bazaargadgets.com/image/catalog/products/automobile/carelectronicstools/1224V180WCarCigaretteLighterPowerPlugDCAdapterCharger-SKU160283-descriptionImage5.jpg\n",
            "[%] File Downloaded !\n",
            "\n",
            "[%] Downloading Image #13 from https://www.allbusiness.com/asset/2016/09/Digital-devices.jpg\n",
            "[%] File Downloaded !\n",
            "\n",
            "[%] Downloading Image #14 from https://www.waycoolgadgets.com/wp-content/uploads/2012/06/flying-shark-toy.jpg\n",
            "[%] File Downloaded !\n",
            "\n",
            "[%] Downloading Image #15 from https://lab.fm/wp-content/uploads/2019/12/120419-Teejayx6-Gadgets-YouTube.jpg\n",
            "[%] File Downloaded !\n",
            "\n",
            "[%] Downloading Image #16 from http://www.suckstobebroke.com/wp-content/uploads/2020/01/Electronic-Word-Clock-4.jpg\n",
            "[%] File Downloaded !\n",
            "\n",
            "[%] Downloading Image #17 from https://vignette.wikia.nocookie.net/spidermanps4/images/f/ff/Electric_Web_from_MSM_screen.png/revision/latest/scale-to-width-down/350?cb=20180918182318\n",
            "[%] File Downloaded !\n",
            "\n",
            "[%] Downloading Image #18 from http://cdnassets.hw.net/7f/e7/ecdb15cb480c8d490da9e1eccc72/image-slb-july2016.jpg\n",
            "[%] File Downloaded !\n",
            "\n",
            "[%] Downloading Image #19 from https://www.askideas.com/media/10/Lion-Haircut-Funny-Style.jpg\n",
            "[%] File Downloaded !\n",
            "\n",
            "\n",
            "\n",
            "[!!]Indexing page: 3\n",
            "\n",
            "[%] Indexed 11 Images on Page 3.\n",
            "\n",
            "===============================================\n",
            "\n",
            "[%] Downloading Image #20 from http://blog.onsitego.com/wp-content/uploads/2020/08/Samsung-Galaxy-Tab-S7-Plus.jpg\n",
            "[Error]Invalid image, not saving http://blog.onsitego.com/wp-content/uploads/2020/08/Samsung-Galaxy-Tab-S7-Plus.jpg\n",
            "\n",
            "[!] Issue getting: http://blog.onsitego.com/wp-content/uploads/2020/08/Samsung-Galaxy-Tab-S7-Plus.jpg\n",
            "[!] Error:: No active exception to reraise\n",
            "[%] Downloading Image #20 from https://www.gamereactor.eu/media/54/starwars_3215463b.jpg\n",
            "[%] File Downloaded !\n",
            "\n",
            "\n",
            "\n",
            "[%] Done. Downloaded 20 images.\n",
            "\n",
            "===============================================\n",
            "\n"
          ],
          "name": "stdout"
        }
      ]
    },
    {
      "cell_type": "code",
      "metadata": {
        "colab": {
          "base_uri": "https://localhost:8080/"
        },
        "id": "vpGKvFXdik0R",
        "outputId": "eaa14e20-b4d3-45d7-e0d5-8e3e1076bcdb"
      },
      "source": [
        "!pip install ipython-autotime\n",
        "%load_ext autotime"
      ],
      "execution_count": null,
      "outputs": [
        {
          "output_type": "stream",
          "text": [
            "Collecting ipython-autotime\n",
            "  Downloading https://files.pythonhosted.org/packages/b4/c9/b413a24f759641bc27ef98c144b590023c8038dfb8a3f09e713e9dff12c1/ipython_autotime-0.3.1-py2.py3-none-any.whl\n",
            "Requirement already satisfied: ipython in /usr/local/lib/python3.7/dist-packages (from ipython-autotime) (5.5.0)\n",
            "Requirement already satisfied: prompt-toolkit<2.0.0,>=1.0.4 in /usr/local/lib/python3.7/dist-packages (from ipython->ipython-autotime) (1.0.18)\n",
            "Requirement already satisfied: setuptools>=18.5 in /usr/local/lib/python3.7/dist-packages (from ipython->ipython-autotime) (56.1.0)\n",
            "Requirement already satisfied: traitlets>=4.2 in /usr/local/lib/python3.7/dist-packages (from ipython->ipython-autotime) (5.0.5)\n",
            "Requirement already satisfied: simplegeneric>0.8 in /usr/local/lib/python3.7/dist-packages (from ipython->ipython-autotime) (0.8.1)\n",
            "Requirement already satisfied: pygments in /usr/local/lib/python3.7/dist-packages (from ipython->ipython-autotime) (2.6.1)\n",
            "Requirement already satisfied: decorator in /usr/local/lib/python3.7/dist-packages (from ipython->ipython-autotime) (4.4.2)\n",
            "Requirement already satisfied: pickleshare in /usr/local/lib/python3.7/dist-packages (from ipython->ipython-autotime) (0.7.5)\n",
            "Requirement already satisfied: pexpect; sys_platform != \"win32\" in /usr/local/lib/python3.7/dist-packages (from ipython->ipython-autotime) (4.8.0)\n",
            "Requirement already satisfied: six>=1.9.0 in /usr/local/lib/python3.7/dist-packages (from prompt-toolkit<2.0.0,>=1.0.4->ipython->ipython-autotime) (1.15.0)\n",
            "Requirement already satisfied: wcwidth in /usr/local/lib/python3.7/dist-packages (from prompt-toolkit<2.0.0,>=1.0.4->ipython->ipython-autotime) (0.2.5)\n",
            "Requirement already satisfied: ipython-genutils in /usr/local/lib/python3.7/dist-packages (from traitlets>=4.2->ipython->ipython-autotime) (0.2.0)\n",
            "Requirement already satisfied: ptyprocess>=0.5 in /usr/local/lib/python3.7/dist-packages (from pexpect; sys_platform != \"win32\"->ipython->ipython-autotime) (0.7.0)\n",
            "Installing collected packages: ipython-autotime\n",
            "Successfully installed ipython-autotime-0.3.1\n",
            "time: 171 µs (started: 2021-05-19 02:53:02 +00:00)\n"
          ],
          "name": "stdout"
        }
      ]
    },
    {
      "cell_type": "code",
      "metadata": {
        "id": "KPLRfCQcirAJ"
      },
      "source": [
        ""
      ],
      "execution_count": null,
      "outputs": []
    },
    {
      "cell_type": "code",
      "metadata": {
        "id": "stzt1bCy8VG9",
        "colab": {
          "base_uri": "https://localhost:8080/"
        },
        "outputId": "70a5f579-d92f-4595-cde0-ee1ed551623c"
      },
      "source": [
        "#preprocessing\n",
        " \n",
        "import os \n",
        "import matplotlib.pyplot as plt\n",
        "import numpy as np\n",
        "from skimage.io import imread\n",
        "from skimage.transform import resize\n",
        " \n",
        "target = []\n",
        "images = []\n",
        "flat_data = []\n",
        "DATADIR ='/content/images'\n",
        "CATEGORIES = ['Chocolate','Electronic gadgets','Rose']\n",
        " \n",
        "for category in CATEGORIES:\n",
        "  class_num = CATEGORIES.index(category)\n",
        "  path = os.path.join(DATADIR,category)\n",
        "  for img in os.listdir(path):\n",
        "    img_array = imread(os.path.join(path,img))\n",
        "   # print(img_array.shape)\n",
        "    #plt.imshow(img_array)\n",
        "    img_resized = resize(img_array,(150,150,3))\n",
        "    flat_data.append(img_resized.flatten())\n",
        " \n",
        "    images.append(img_resized)\n",
        "    target.append(class_num)\n",
        " \n",
        "flat_data = np.array(flat_data)\n",
        "target = np.array(target)\n",
        "images = np.array(images)"
      ],
      "execution_count": null,
      "outputs": [
        {
          "output_type": "stream",
          "text": [
            "time: 20.5 s (started: 2021-05-19 02:54:55 +00:00)\n"
          ],
          "name": "stdout"
        }
      ]
    },
    {
      "cell_type": "code",
      "metadata": {
        "colab": {
          "base_uri": "https://localhost:8080/"
        },
        "id": "UJV3XkPWjPeK",
        "outputId": "1b7c3bcb-9843-48fa-90d0-eea2d16e863b"
      },
      "source": [
        "len(flat_data[0])"
      ],
      "execution_count": null,
      "outputs": [
        {
          "output_type": "execute_result",
          "data": {
            "text/plain": [
              "67500"
            ]
          },
          "metadata": {
            "tags": []
          },
          "execution_count": 9
        },
        {
          "output_type": "stream",
          "text": [
            "time: 3.82 ms (started: 2021-05-19 02:56:17 +00:00)\n"
          ],
          "name": "stdout"
        }
      ]
    },
    {
      "cell_type": "code",
      "metadata": {
        "colab": {
          "base_uri": "https://localhost:8080/"
        },
        "id": "lFeITQpZjbCu",
        "outputId": "526522db-387e-4894-c73b-747a039206e1"
      },
      "source": [
        "target"
      ],
      "execution_count": null,
      "outputs": [
        {
          "output_type": "execute_result",
          "data": {
            "text/plain": [
              "array([0, 0, 0, 0, 0, 0, 0, 0, 0, 0, 0, 0, 0, 0, 0, 0, 0, 0, 0, 0, 1, 1,\n",
              "       1, 1, 1, 1, 1, 1, 1, 1, 1, 1, 1, 1, 1, 1, 1, 1, 1, 1, 2, 2, 2, 2,\n",
              "       2, 2, 2, 2, 2, 2, 2, 2, 2, 2, 2, 2, 2, 2, 2, 2])"
            ]
          },
          "metadata": {
            "tags": []
          },
          "execution_count": 10
        },
        {
          "output_type": "stream",
          "text": [
            "time: 5.06 ms (started: 2021-05-19 02:56:39 +00:00)\n"
          ],
          "name": "stdout"
        }
      ]
    },
    {
      "cell_type": "code",
      "metadata": {
        "colab": {
          "base_uri": "https://localhost:8080/",
          "height": 298
        },
        "id": "VIhmFWGMjjgW",
        "outputId": "44e80fc5-4ecb-40e0-babf-7f0aafb45c49"
      },
      "source": [
        "unique,count = np.unique(target,return_counts=True)\n",
        "plt.bar(CATEGORIES,count)"
      ],
      "execution_count": null,
      "outputs": [
        {
          "output_type": "execute_result",
          "data": {
            "text/plain": [
              "<BarContainer object of 3 artists>"
            ]
          },
          "metadata": {
            "tags": []
          },
          "execution_count": 11
        },
        {
          "output_type": "display_data",
          "data": {
            "image/png": "[encoded data removed]",
            "text/plain": [
              "<Figure size 432x288 with 1 Axes>"
            ]
          },
          "metadata": {
            "tags": [],
            "needs_background": "light"
          }
        },
        {
          "output_type": "stream",
          "text": [
            "time: 199 ms (started: 2021-05-19 02:57:02 +00:00)\n"
          ],
          "name": "stdout"
        }
      ]
    },
    {
      "cell_type": "code",
      "metadata": {
        "colab": {
          "base_uri": "https://localhost:8080/"
        },
        "id": "Kf5Au_qwjm5t",
        "outputId": "c95b3fc6-aaf7-4b42-96ce-0a4146acaf03"
      },
      "source": [
        "from sklearn.model_selection import train_test_split\n",
        "x_train,x_test,y_train,y_test = train_test_split(flat_data,target,test_size=0.3,random_state=0)"
      ],
      "execution_count": null,
      "outputs": [
        {
          "output_type": "stream",
          "text": [
            "time: 210 ms (started: 2021-05-19 02:57:33 +00:00)\n"
          ],
          "name": "stdout"
        }
      ]
    },
    {
      "cell_type": "code",
      "metadata": {
        "colab": {
          "base_uri": "https://localhost:8080/"
        },
        "id": "fIpsX9GojvI1",
        "outputId": "c55ce16d-bb8d-452e-b6b9-7345884e9b7a"
      },
      "source": [
        "from sklearn.svm import SVC\n",
        "from sklearn.model_selection import GridSearchCV\n",
        "param_grid =   {'C':[0.1,1,10,100],\n",
        "              'kernel':['linear','rbf']}\n",
        " \n",
        " \n",
        "clf = GridSearchCV(SVC(),param_grid)\n",
        "clf.fit(x_train,y_train)"
      ],
      "execution_count": null,
      "outputs": [
        {
          "output_type": "execute_result",
          "data": {
            "text/plain": [
              "GridSearchCV(cv=None, error_score=nan,\n",
              "             estimator=SVC(C=1.0, break_ties=False, cache_size=200,\n",
              "                           class_weight=None, coef0=0.0,\n",
              "                           decision_function_shape='ovr', degree=3,\n",
              "                           gamma='scale', kernel='rbf', max_iter=-1,\n",
              "                           probability=False, random_state=None, shrinking=True,\n",
              "                           tol=0.001, verbose=False),\n",
              "             iid='deprecated', n_jobs=None,\n",
              "             param_grid={'C': [0.1, 1, 10, 100], 'kernel': ['linear', 'rbf']},\n",
              "             pre_dispatch='2*n_jobs', refit=True, return_train_score=False,\n",
              "             scoring=None, verbose=0)"
            ]
          },
          "metadata": {
            "tags": []
          },
          "execution_count": 13
        },
        {
          "output_type": "stream",
          "text": [
            "time: 7.78 s (started: 2021-05-19 02:58:07 +00:00)\n"
          ],
          "name": "stdout"
        }
      ]
    },
    {
      "cell_type": "code",
      "metadata": {
        "colab": {
          "base_uri": "https://localhost:8080/"
        },
        "id": "mPC3rE7rj3rt",
        "outputId": "dc242ef2-da44-481a-9993-1cbc87992eea"
      },
      "source": [
        "y_pred = clf.predict(x_test)\n",
        "y_pred"
      ],
      "execution_count": null,
      "outputs": [
        {
          "output_type": "execute_result",
          "data": {
            "text/plain": [
              "array([0, 0, 2, 1, 2, 0, 1, 1, 2, 0, 2, 1, 1, 0, 1, 2, 0, 1])"
            ]
          },
          "metadata": {
            "tags": []
          },
          "execution_count": 14
        },
        {
          "output_type": "stream",
          "text": [
            "time: 79.4 ms (started: 2021-05-19 02:58:42 +00:00)\n"
          ],
          "name": "stdout"
        }
      ]
    },
    {
      "cell_type": "code",
      "metadata": {
        "colab": {
          "base_uri": "https://localhost:8080/"
        },
        "id": "X1Zkz5TRj-wZ",
        "outputId": "3bb6ea6f-f52f-414d-b8cf-ecd8978ab891"
      },
      "source": [
        "y_test"
      ],
      "execution_count": null,
      "outputs": [
        {
          "output_type": "execute_result",
          "data": {
            "text/plain": [
              "array([1, 1, 2, 1, 0, 0, 1, 2, 2, 1, 0, 0, 1, 2, 1, 2, 2, 0])"
            ]
          },
          "metadata": {
            "tags": []
          },
          "execution_count": 15
        },
        {
          "output_type": "stream",
          "text": [
            "time: 6.91 ms (started: 2021-05-19 02:59:15 +00:00)\n"
          ],
          "name": "stdout"
        }
      ]
    },
    {
      "cell_type": "code",
      "metadata": {
        "colab": {
          "base_uri": "https://localhost:8080/"
        },
        "id": "k8A_fufakKAq",
        "outputId": "5e387883-3de8-43ec-b79f-d7347987fa92"
      },
      "source": [
        "from sklearn.metrics import accuracy_score,confusion_matrix"
      ],
      "execution_count": null,
      "outputs": [
        {
          "output_type": "stream",
          "text": [
            "time: 1.31 ms (started: 2021-05-19 02:59:41 +00:00)\n"
          ],
          "name": "stdout"
        }
      ]
    },
    {
      "cell_type": "code",
      "metadata": {
        "colab": {
          "base_uri": "https://localhost:8080/"
        },
        "id": "OS8X3xjhkMVx",
        "outputId": "45b8ae64-01f5-4977-ca7a-bc2e3e54c47a"
      },
      "source": [
        "accuracy_score(y_pred,y_test)"
      ],
      "execution_count": null,
      "outputs": [
        {
          "output_type": "execute_result",
          "data": {
            "text/plain": [
              "0.4444444444444444"
            ]
          },
          "metadata": {
            "tags": []
          },
          "execution_count": 17
        },
        {
          "output_type": "stream",
          "text": [
            "time: 5.81 ms (started: 2021-05-19 03:00:05 +00:00)\n"
          ],
          "name": "stdout"
        }
      ]
    },
    {
      "cell_type": "code",
      "metadata": {
        "colab": {
          "base_uri": "https://localhost:8080/"
        },
        "id": "xIpEuQOzkTTA",
        "outputId": "6b1b0544-6d99-4793-c7dc-6c0b92eb0f07"
      },
      "source": [
        "confusion_matrix(y_pred,y_test)"
      ],
      "execution_count": null,
      "outputs": [
        {
          "output_type": "execute_result",
          "data": {
            "text/plain": [
              "array([[1, 3, 2],\n",
              "       [2, 4, 1],\n",
              "       [2, 0, 3]])"
            ]
          },
          "metadata": {
            "tags": []
          },
          "execution_count": 18
        },
        {
          "output_type": "stream",
          "text": [
            "time: 9.72 ms (started: 2021-05-19 03:00:35 +00:00)\n"
          ],
          "name": "stdout"
        }
      ]
    },
    {
      "cell_type": "code",
      "metadata": {
        "colab": {
          "base_uri": "https://localhost:8080/"
        },
        "id": "XqZ6dDF9kdWS",
        "outputId": "8c5e647b-79f0-4279-9f91-07237abebf5a"
      },
      "source": [
        "import pickle\n",
        "pickle.dump(clf,open('img_model.p','wb'))"
      ],
      "execution_count": null,
      "outputs": [
        {
          "output_type": "stream",
          "text": [
            "time: 34.1 ms (started: 2021-05-19 03:00:59 +00:00)\n"
          ],
          "name": "stdout"
        }
      ]
    },
    {
      "cell_type": "code",
      "metadata": {
        "colab": {
          "base_uri": "https://localhost:8080/"
        },
        "id": "1BHMAsRKklZf",
        "outputId": "b76dc45b-846c-4738-cb67-aa33cbfbe645"
      },
      "source": [
        "model = pickle.load(open('img_model.p','rb'))"
      ],
      "execution_count": null,
      "outputs": [
        {
          "output_type": "stream",
          "text": [
            "time: 21.8 ms (started: 2021-05-19 03:01:32 +00:00)\n"
          ],
          "name": "stdout"
        }
      ]
    },
    {
      "cell_type": "code",
      "metadata": {
        "colab": {
          "base_uri": "https://localhost:8080/",
          "height": 336
        },
        "id": "9YWEg_1Vknl5",
        "outputId": "200d41f1-4c32-4e3b-d2b7-9007bd5f86fe"
      },
      "source": [
        "flat_data =[]\n",
        "url = input('enter your url')\n",
        "img = imread(url)\n",
        "img_resized = resize(img,(150,150,3))\n",
        "flat_data.append(img_resized.flatten())\n",
        "flat_data = np.array(flat_data)\n",
        "print(img.shape)\n",
        "plt.imshow(img_resized)\n",
        "y_out = model.predict(flat_data)\n",
        "y_out = CATEGORIES[y_out[0]]\n",
        "print(f'PREDICTED OUTPUT:{y_out}')"
      ],
      "execution_count": null,
      "outputs": [
        {
          "output_type": "stream",
          "text": [
            "enter your urlhttps://tse3.mm.bing.net/th?id=OIP.Umy8K5R9WniBnPX0DeBAagHaEd&pid=Api&P=0&w=288&h=175\n",
            "(174, 288, 3)\n",
            "PREDICTED OUTPUT:Electronic gadgets\n"
          ],
          "name": "stdout"
        },
        {
          "output_type": "display_data",
          "data": {
            "image/png": "[encoded data removed]",
            "text/plain": [
              "<Figure size 432x288 with 1 Axes>"
            ]
          },
          "metadata": {
            "tags": [],
            "needs_background": "light"
          }
        },
        {
          "output_type": "stream",
          "text": [
            "time: 25.2 s (started: 2021-05-19 03:01:55 +00:00)\n"
          ],
          "name": "stdout"
        }
      ]
    },
    {
      "cell_type": "code",
      "metadata": {
        "colab": {
          "base_uri": "https://localhost:8080/"
        },
        "id": "3sdR-6kBk0Wx",
        "outputId": "fff8f11a-029d-4372-cdc5-6c9f21a375af"
      },
      "source": [
        "!pip install streamlit --quiet\n",
        "!pip install pyngrok==4.1.1 --quiet\n",
        "from pyngrok import ngrok"
      ],
      "execution_count": null,
      "outputs": [
        {
          "output_type": "stream",
          "text": [
            "\u001b[K     |████████████████████████████████| 8.2MB 5.4MB/s \n",
            "\u001b[K     |████████████████████████████████| 112kB 46.7MB/s \n",
            "\u001b[K     |████████████████████████████████| 92kB 8.3MB/s \n",
            "\u001b[K     |████████████████████████████████| 174kB 47.3MB/s \n",
            "\u001b[K     |████████████████████████████████| 4.2MB 33.7MB/s \n",
            "\u001b[K     |████████████████████████████████| 81kB 7.7MB/s \n",
            "\u001b[K     |████████████████████████████████| 71kB 7.6MB/s \n",
            "\u001b[K     |████████████████████████████████| 122kB 38.4MB/s \n",
            "\u001b[?25h  Building wheel for blinker (setup.py) ... \u001b[?25l\u001b[?25hdone\n",
            "\u001b[31mERROR: google-colab 1.0.0 has requirement ipykernel~=4.10, but you'll have ipykernel 5.5.5 which is incompatible.\u001b[0m\n",
            "  Building wheel for pyngrok (setup.py) ... \u001b[?25l\u001b[?25hdone\n",
            "time: 20.3 s (started: 2021-05-19 03:02:53 +00:00)\n"
          ],
          "name": "stdout"
        }
      ]
    },
    {
      "cell_type": "code",
      "metadata": {
        "colab": {
          "base_uri": "https://localhost:8080/"
        },
        "id": "7bH9bG6Q8vza",
        "outputId": "47e3ecdc-420c-48c0-d749-c39c00a0a185"
      },
      "source": [
        "%%writefile app.py\n",
        "import streamlit as st\n",
        "import numpy as np\n",
        "from skimage.io import imread\n",
        "from skimage.transform import resize\n",
        "import pickle\n",
        "from PIL import Image\n",
        "st.set_option('deprecation.showfileUploaderEncoding', False)\n",
        "st.title('Image Classifier using machin learning')\n",
        "st.text('upload the Image')\n",
        " \n",
        "model = pickle.load(open('img_model.p','rb'))\n",
        " \n",
        "uploaded_file = st.file_uploader(\"Choose an Image...\",type = \"jpg\") \n",
        "if uploaded_file is not None:\n",
        "  img = Image.open(uploaded_file)\n",
        "  st.image(img,caption ='Uploaded Image')\n",
        "  if st.button('PREDICT:'):\n",
        "    CATEGORIES = ['Chocolate','Electronic gadgets','Rose']\n",
        "    st.write('Result...')\n",
        "    flat_data = []\n",
        "    img = np.array(img)\n",
        "    img_resized = resize(img,(150,150,3))\n",
        "    flat_data.append(img_resized.flatten())\n",
        "    flat_data = np.array(flat_data)\n",
        "    print(img.shape)\n",
        "   \n",
        "    y_out = model.predict(flat_data)\n",
        "    y_out = CATEGORIES[y_out[0]]\n",
        "    st.title(f'PREDICTED OUTPUT: {y_out}')"
      ],
      "execution_count": null,
      "outputs": [
        {
          "output_type": "stream",
          "text": [
            "Overwriting app.py\n",
            "time: 6.69 ms (started: 2021-05-19 03:22:56 +00:00)\n"
          ],
          "name": "stdout"
        }
      ]
    },
    {
      "cell_type": "code",
      "metadata": {
        "colab": {
          "base_uri": "https://localhost:8080/"
        },
        "id": "-bQ2qZVPlIVF",
        "outputId": "ddcc8743-f4b5-4aa9-faa9-b611d4741d4e"
      },
      "source": [
        "!nohup streamlit run app.py &\n",
        "url = ngrok.connect(port='8501')\n",
        "print(url)"
      ],
      "execution_count": null,
      "outputs": [
        {
          "output_type": "stream",
          "text": [
            "nohup: appending output to 'nohup.out'\n",
            "http://b88d3295e6e9.ngrok.io\n",
            "time: 1.77 s (started: 2021-05-19 03:04:29 +00:00)\n"
          ],
          "name": "stdout"
        }
      ]
    }
  ]
}